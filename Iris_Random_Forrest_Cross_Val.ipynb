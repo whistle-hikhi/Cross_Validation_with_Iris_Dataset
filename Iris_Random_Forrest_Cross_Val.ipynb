{
  "nbformat": 4,
  "nbformat_minor": 0,
  "metadata": {
    "colab": {
      "provenance": [],
      "authorship_tag": "ABX9TyM6O7puXiW/MxQSGmaH7TXG"
    },
    "kernelspec": {
      "name": "python3",
      "display_name": "Python 3"
    },
    "language_info": {
      "name": "python"
    }
  },
  "cells": [
    {
      "cell_type": "code",
      "execution_count": 1,
      "metadata": {
        "colab": {
          "base_uri": "https://localhost:8080/"
        },
        "id": "M4k3xpY4JId4",
        "outputId": "59f4c394-a087-431c-a1e1-2e4938837dd6"
      },
      "outputs": [
        {
          "output_type": "stream",
          "name": "stdout",
          "text": [
            "Cross-Validation Scores: [1.         0.96666667 0.93333333 0.93333333 0.96666667]\n",
            "Average Accuracy: 0.9600\n"
          ]
        }
      ],
      "source": [
        "# Import necessary libraries\n",
        "from sklearn.datasets import load_iris\n",
        "from sklearn.model_selection import KFold, cross_val_score\n",
        "from sklearn.ensemble import RandomForestClassifier\n",
        "import numpy as np\n",
        "\n",
        "# Load the Iris dataset\n",
        "iris = load_iris()\n",
        "X, y = iris.data, iris.target\n",
        "\n",
        "# Initialize Random Forest classifier\n",
        "rf_clf = RandomForestClassifier(n_estimators=100, random_state=42)\n",
        "\n",
        "# Set up K-Fold Cross Validation\n",
        "kfold = KFold(n_splits=5, shuffle=True, random_state=42)  # 5-Fold cross-validation\n",
        "\n",
        "# Evaluate the model using cross-validation\n",
        "cv_scores = cross_val_score(rf_clf, X, y, cv=kfold, scoring='accuracy')\n",
        "\n",
        "# Print the cross-validation scores and their average\n",
        "print(f\"Cross-Validation Scores: {cv_scores}\")\n",
        "print(f\"Average Accuracy: {np.mean(cv_scores):.4f}\")\n"
      ]
    }
  ]
}